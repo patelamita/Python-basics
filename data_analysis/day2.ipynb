{
 "cells": [
  {
   "cell_type": "code",
   "execution_count": 4,
   "metadata": {},
   "outputs": [
    {
     "name": "stdout",
     "output_type": "stream",
     "text": [
      "Kitti says: Bark\n",
      "Jonny says: Meow\n"
     ]
    }
   ],
   "source": [
    "# practice question \n",
    "\n",
    "class Animal:\n",
    "    def __init__(self, name):\n",
    "        self.name = name\n",
    "\n",
    "    def make_sound(self):\n",
    "        return \"Some generic sound\"\n",
    "\n",
    "\n",
    "class Dog(Animal):\n",
    "    def make_sound(self):\n",
    "        return \"Bark\"\n",
    "\n",
    "\n",
    "class Cat(Animal):\n",
    "    def make_sound(self):\n",
    "        return \"Meow\"\n",
    "\n",
    "\n",
    "dog = Dog(\"Kitti\")\n",
    "cat = Cat(\"Jonny\")\n",
    "\n",
    "\n",
    "print(f\"{dog.name} says: {dog.make_sound()}\") \n",
    "print(f\"{cat.name} says: {cat.make_sound()}\")  \n"
   ]
  },
  {
   "cell_type": "code",
   "execution_count": 11,
   "metadata": {},
   "outputs": [],
   "source": [
    "\n",
    "'''Create a Python program using inheritance where:\n",
    "\n",
    "Define a base class Employee with:\n",
    "\n",
    "Attributes: name, salary\n",
    "Method: display_info() to print employee details\n",
    "Define a derived class Manager that inherits from Employee:\n",
    "\n",
    "Additional attribute: department\n",
    "Override display_info() to include the department name\n",
    "Define another derived class Developer that inherits from Employee:\n",
    "\n",
    "Additional attribute: programming_language\n",
    "Override display_info() to include the programming language\n",
    "Create objects for Manager and Developer, then call display_info() for both.'''\n",
    "\n",
    "class Employee:\n",
    "    def __init__(self,name,salary):\n",
    "        self.name = name\n",
    "        self.salary = salary\n",
    "        \n",
    "    def display_info(self):\n",
    "        print(f\"{self.name},{self.salary}\")\n",
    "        \n",
    "        \n",
    "class Manager(Employee):\n",
    "    def __init__(self,name,salary,department):\n",
    "        super().__init__(name,salary)\n",
    "        self.department = department\n",
    "        \n",
    "    def display_info(self):    \n",
    "\n",
    "        return f\"Name: {self.name}, Salary: {self.salary}\"           "
   ]
  },
  {
   "cell_type": "code",
   "execution_count": 12,
   "metadata": {},
   "outputs": [
    {
     "name": "stdout",
     "output_type": "stream",
     "text": [
      "Name: Aieman, Salary: 120000\n"
     ]
    }
   ],
   "source": [
    "manager = Manager(\"Aieman\",120000,\"TDP\")\n",
    "print(manager.display_info())"
   ]
  },
  {
   "cell_type": "code",
   "execution_count": 14,
   "metadata": {},
   "outputs": [
    {
     "name": "stdout",
     "output_type": "stream",
     "text": [
      "Name: Jane Doe, Salary: 120000, Programming Language: Python\n"
     ]
    }
   ],
   "source": [
    "# developer\n",
    "class Developer(Employee):\n",
    "    def __init__(self, name, salary, programming_language):\n",
    "        super().__init__(name, salary)\n",
    "        self.programming_language = programming_language\n",
    "\n",
    "    def display_info(self):\n",
    "        print(f\"Name: {self.name}, Salary: {self.salary}, Programming Language: {self.programming_language}\")\n",
    "\n",
    "        \n",
    "developer = Developer(\"Jane Doe\", 120000, \"Python\")\n",
    "developer.display_info()"
   ]
  }
 ],
 "metadata": {
  "kernelspec": {
   "display_name": "env",
   "language": "python",
   "name": "python3"
  },
  "language_info": {
   "codemirror_mode": {
    "name": "ipython",
    "version": 3
   },
   "file_extension": ".py",
   "mimetype": "text/x-python",
   "name": "python",
   "nbconvert_exporter": "python",
   "pygments_lexer": "ipython3",
   "version": "3.12.8"
  }
 },
 "nbformat": 4,
 "nbformat_minor": 2
}

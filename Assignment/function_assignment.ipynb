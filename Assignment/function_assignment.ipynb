{
 "cells": [
  {
   "cell_type": "code",
   "execution_count": 1,
   "metadata": {},
   "outputs": [
    {
     "name": "stdout",
     "output_type": "stream",
     "text": [
      "{'g': 2, 'o': 3, 'd': 1, 'm': 1, 'r': 1, 'n': 2, 'i': 1}\n"
     ]
    }
   ],
   "source": [
    "\n",
    "def char_frequency(string):\n",
    "    \n",
    "    frequency = {}\n",
    "\n",
    "    # Iterate through each character in the string\n",
    "    for char in string:\n",
    "        # Convert the character to lowercase\n",
    "        char = char.lower()\n",
    "\n",
    "        # Ignore spaces\n",
    "        if char == \" \":\n",
    "            continue\n",
    "\n",
    "        # Update the frequency in the dictionary\n",
    "        if char in frequency:\n",
    "            frequency[char] += 1\n",
    "        else:\n",
    "            frequency[char] = 1\n",
    "\n",
    "    return frequency\n",
    "\n",
    "input_string = \"Good Morning\" \n",
    "print(char_frequency(input_string))"
   ]
  },
  {
   "cell_type": "code",
   "execution_count": 2,
   "metadata": {},
   "outputs": [
    {
     "name": "stdout",
     "output_type": "stream",
     "text": [
      "python is this world Hello\n"
     ]
    }
   ],
   "source": [
    "def reverse_sentence(sentence):\n",
    "    \n",
    "    words = sentence.split()\n",
    "    reversed_words = reversed(words)\n",
    "    \n",
    "    # Join the words back into a sentence\n",
    "    reversed_sentence = \" \".join(reversed_words)\n",
    "    return reversed_sentence\n",
    "\n",
    "output = reverse_sentence(\"Hello world this is python\")\n",
    "print(output)  # Output: \"Python is this world Hello\""
   ]
  },
  {
   "cell_type": "code",
   "execution_count": 3,
   "metadata": {},
   "outputs": [
    {
     "name": "stdout",
     "output_type": "stream",
     "text": [
      "True\n",
      "True\n"
     ]
    }
   ],
   "source": [
    "def is_palindrome(s):\n",
    "    # Remove spaces, punctuation, and convert to lowercase\n",
    "    clean_string = ''.join(\n",
    "        char.lower() for char in s if char.isalnum()  \n",
    "    )\n",
    "    \n",
    "    return clean_string == clean_string[::-1]\n",
    "\n",
    "\n",
    "print(is_palindrome(\"Racecar\"))                        \n",
    "print(is_palindrome(\"12321\"))     "
   ]
  }
 ],
 "metadata": {
  "kernelspec": {
   "display_name": "env",
   "language": "python",
   "name": "python3"
  },
  "language_info": {
   "codemirror_mode": {
    "name": "ipython",
    "version": 3
   },
   "file_extension": ".py",
   "mimetype": "text/x-python",
   "name": "python",
   "nbconvert_exporter": "python",
   "pygments_lexer": "ipython3",
   "version": "3.12.8"
  }
 },
 "nbformat": 4,
 "nbformat_minor": 2
}

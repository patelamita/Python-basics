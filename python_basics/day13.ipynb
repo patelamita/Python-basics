{
 "cells": [
  {
   "cell_type": "markdown",
   "metadata": {},
   "source": [
    "#### Practice questions"
   ]
  },
  {
   "cell_type": "code",
   "execution_count": 5,
   "metadata": {},
   "outputs": [],
   "source": [
    "# function to return count of specific digit from numbers\n",
    "def count_specific_digit(numbers: list, digit: int) -> int:\n",
    "    \"\"\"returns count of specific digit from numbers\n",
    "    \"\"\"\n",
    "    count = 0\n",
    "    for num in numbers:\n",
    "        if num == digit:\n",
    "            count += 1\n",
    "    return count"
   ]
  },
  {
   "cell_type": "code",
   "execution_count": 6,
   "metadata": {},
   "outputs": [
    {
     "name": "stdout",
     "output_type": "stream",
     "text": [
      "2\n"
     ]
    }
   ],
   "source": [
    "numbers = [1, 4, 8, 2, 5, 1, 2, 3,]\n",
    "print(count_specific_digit(numbers, 2))"
   ]
  },
  {
   "cell_type": "code",
   "execution_count": 7,
   "metadata": {},
   "outputs": [
    {
     "name": "stdout",
     "output_type": "stream",
     "text": [
      "dict_keys(['brand', 'year'])\n",
      "red\n",
      "dict_keys(['brand', 'year', 'color'])\n",
      "red\n"
     ]
    }
   ],
   "source": [
    "# dictionary in python\n",
    "car = {\"brand\": \"tesla\", \"year\": 2020}\n",
    "# if \"price\" in car:\n",
    "#     print(\"price is already defined\")\n",
    "\n",
    "# car[\"price\"] = \"12k\"\n",
    "# print(car.keys())\n",
    "# print(car.values())\n",
    "\n",
    "# car[\"price\"] = '20k'\n",
    "# for key, value in car.items():\n",
    "#     print(f\"{key}: {value}\")\n",
    "\n",
    "print(car.keys())\n",
    "print(car.get(\"color\", \"red\"))\n",
    "car[\"color\"] = car.get(\"color\", \"red\")\n",
    "\n",
    "print(car.keys())\n",
    "print(car.get(\"color\", \"green\"))"
   ]
  },
  {
   "cell_type": "code",
   "execution_count": 8,
   "metadata": {},
   "outputs": [],
   "source": [
    "# function to return frequency of each digit from a given list\n",
    "def frequency_of_digits(numbers: list) -> dict:\n",
    "    \"\"\"returns frequency of each digit from a given list\n",
    "    \"\"\"\n",
    "    count_digit = {}\n",
    "    for num in numbers:\n",
    "        # count_digit[num] = count_digit.get(num, 0) + 1\n",
    "        if not num in count_digit:\n",
    "            count_digit[num] = 1\n",
    "        else:\n",
    "            count_digit[num] += 1\n",
    "\n",
    "    return count_digit"
   ]
  },
  {
   "cell_type": "code",
   "execution_count": 9,
   "metadata": {},
   "outputs": [
    {
     "name": "stdout",
     "output_type": "stream",
     "text": [
      "{1: 2, 4: 1, 5: 2, 7: 1, 3: 1, 2: 2}\n"
     ]
    }
   ],
   "source": [
    "numbers = [1,4,5,5,7,3,1,2,2]\n",
    "print(frequency_of_digits(numbers))"
   ]
  },
  {
   "cell_type": "markdown",
   "metadata": {},
   "source": [
    "#### Encapsulation\n",
    "\n",
    "- Encapsulation is achieved by using private and protected attributes/methods:\n",
    "\n",
    "- Private members: Use a double underscore __ prefix. These are not accessible outside the class.\n",
    "\n",
    "- Protected members: Use a single underscore _ prefix. These are accessible but should not be modified directly."
   ]
  },
  {
   "cell_type": "code",
   "execution_count": null,
   "metadata": {},
   "outputs": [],
   "source": [
    "class BankAccount:\n",
    "    def __init__(self, balance):\n",
    "        self.__balance = balance  # Private attribute\n",
    "\n",
    "    def deposit(self, amount):\n",
    "        self.__balance += amount\n",
    "\n",
    "    def get_balance(self):\n",
    "        return self.__balance\n",
    "\n",
    "\n",
    "account = BankAccount(1000)\n",
    "account.deposit(500)\n",
    "print(account.get_balance())  # Output: 1500\n",
    "# print(account.__balance)  # Error: AttributeError"
   ]
  },
  {
   "cell_type": "markdown",
   "metadata": {},
   "source": [
    "#### Inheritance"
   ]
  },
  {
   "cell_type": "code",
   "execution_count": 1,
   "metadata": {},
   "outputs": [
    {
     "name": "stdout",
     "output_type": "stream",
     "text": [
      "Brand: Toyota, Fuel Type: Gasoline, Model: maruti, Doors: 4\n"
     ]
    }
   ],
   "source": [
    "class Vehicle:\n",
    "    def __init__(self, brand, fuel_type):\n",
    "        self.brand = brand  # Parent class attribute\n",
    "        self.fuel_type = fuel_type  # Parent class attribute\n",
    "        self.speed = 0  # Parent class attribute\n",
    "\n",
    "    def display_info(self):\n",
    "        return f\"Brand: {self.brand}, Fuel Type: {self.fuel_type}\"\n",
    "    \n",
    "\n",
    "class Car(Vehicle):\n",
    "    def __init__(self, brand, fuel_type, model, num_doors):\n",
    "        super().__init__(brand, fuel_type)  # Call the parent class constructor\n",
    "        self.model = model  # Child class attribute\n",
    "        self.num_doors = num_doors  # Child class attribute\n",
    "\n",
    "    def display_car_info(self):\n",
    "        # Access parent class attributes using self\n",
    "        vehicle_info = super().display_info()  # Call parent class method\n",
    "        return f\"{vehicle_info}, Model: {self.model}, Doors: {self.num_doors}\"\n",
    "    \n",
    "\n",
    "car = Car(\"Toyota\", \"Gasoline\", \"maruti\", 4)\n",
    "print(car.display_car_info()) "
   ]
  },
  {
   "cell_type": "code",
   "execution_count": 3,
   "metadata": {},
   "outputs": [
    {
     "name": "stdout",
     "output_type": "stream",
     "text": [
      "50.24\n",
      "Name: Circle, Radius: 4 and Area: 50.24\n"
     ]
    }
   ],
   "source": [
    "# parent class\n",
    "class Shape:\n",
    "    def __init__(self, name=\"Circle\"):\n",
    "        self.name = name\n",
    "    \n",
    "    def display_info(self):\n",
    "        return f\"Name: {self.name}\"\n",
    "    \n",
    "\n",
    "# child class\n",
    "class Circle(Shape):\n",
    "    def __init__(self, radius):\n",
    "        super().__init__()\n",
    "        self.radius = radius\n",
    "\n",
    "    def area(self):\n",
    "        return 3.14 * self.radius ** 2\n",
    "    \n",
    "    def display_info(self):\n",
    "        return f\"{super().display_info()}, Radius: {self.radius} and Area: {self.area()}\"\n",
    "    \n",
    "\n",
    "c1 = Circle(4)\n",
    "print(c1.area())\n",
    "print(c1.display_info())"
   ]
  },
  {
   "cell_type": "code",
   "execution_count": 4,
   "metadata": {},
   "outputs": [
    {
     "name": "stdout",
     "output_type": "stream",
     "text": [
      "20\n",
      "Name: Rectangle\n"
     ]
    }
   ],
   "source": [
    "class Rectangle(Shape):\n",
    "    def __init__(self, length, width):\n",
    "        super().__init__(name=\"Rectangle\")\n",
    "        self.length = length\n",
    "        self.width = width\n",
    "\n",
    "    def area(self):\n",
    "        return self.length * self.width\n",
    "    \n",
    "    \n",
    "r1 = Rectangle(4, 5)\n",
    "print(r1.area())\n",
    "print(r1.display_info())"
   ]
  },
  {
   "cell_type": "markdown",
   "metadata": {},
   "source": [
    "#### Abstraction"
   ]
  },
  {
   "cell_type": "code",
   "execution_count": 2,
   "metadata": {},
   "outputs": [
    {
     "name": "stdout",
     "output_type": "stream",
     "text": [
      "78.5\n",
      "31.400000000000002\n",
      "test\n"
     ]
    }
   ],
   "source": [
    "from abc import ABC, abstractmethod\n",
    "\n",
    "# Abstract class\n",
    "class Shape(ABC):\n",
    "    @abstractmethod\n",
    "    def area(self):\n",
    "        pass\n",
    "\n",
    "    @abstractmethod\n",
    "    def perimeter(self):\n",
    "        pass\n",
    "\n",
    "    def display_info(self):\n",
    "        print(\"test\")\n",
    "\n",
    "# Concrete class\n",
    "class Circle(Shape):\n",
    "    def __init__(self, radius):\n",
    "        self.radius = radius\n",
    "\n",
    "    def area(self):\n",
    "        return 3.14 * self.radius ** 2\n",
    "\n",
    "    def perimeter(self):\n",
    "        return 2 * 3.14 * self.radius\n",
    "\n",
    "circle = Circle(5)\n",
    "print(circle.area())  # Output: 78.5\n",
    "print(circle.perimeter())  # Output: 31.4\n",
    "circle.display_info()"
   ]
  }
 ],
 "metadata": {
  "kernelspec": {
   "display_name": "env",
   "language": "python",
   "name": "python3"
  },
  "language_info": {
   "codemirror_mode": {
    "name": "ipython",
    "version": 3
   },
   "file_extension": ".py",
   "mimetype": "text/x-python",
   "name": "python",
   "nbconvert_exporter": "python",
   "pygments_lexer": "ipython3",
   "version": "3.12.8"
  }
 },
 "nbformat": 4,
 "nbformat_minor": 2
}

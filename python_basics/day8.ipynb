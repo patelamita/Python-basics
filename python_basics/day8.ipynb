{
 "cells": [
  {
   "cell_type": "code",
   "execution_count": 1,
   "metadata": {},
   "outputs": [],
   "source": [
    "# functions to check if nepal is given para or not\n",
    "import re\n",
    "def is_present(paragraph, word):\n",
    "    if re.search(word, paragraph, re.IGNORECASE):\n",
    "        return True\n",
    "    else:\n",
    "        return False"
   ]
  },
  {
   "cell_type": "code",
   "execution_count": 2,
   "metadata": {},
   "outputs": [
    {
     "data": {
      "text/plain": [
       "True"
      ]
     },
     "execution_count": 2,
     "metadata": {},
     "output_type": "execute_result"
    }
   ],
   "source": [
    "dummy_para = \"nepal, a landlocked country nestled in the Himalayas, is renowned for its breathtaking landscapes and cultural richness.\"\n",
    "is_present(dummy_para, \"Nepal\")"
   ]
  },
  {
   "cell_type": "code",
   "execution_count": 3,
   "metadata": {},
   "outputs": [],
   "source": [
    "def find_word(paragraph, word):\n",
    "    return re.findall(word, paragraph, re.IGNORECASE)"
   ]
  },
  {
   "cell_type": "code",
   "execution_count": 4,
   "metadata": {},
   "outputs": [
    {
     "data": {
      "text/plain": [
       "['Himalayas,']"
      ]
     },
     "execution_count": 4,
     "metadata": {},
     "output_type": "execute_result"
    }
   ],
   "source": [
    "dummy_para = \"nepal, a landlocked country nestled in the Himalayas, is Nepal for its breathtaking landscapes and cultural richness.\"\n",
    "find_word(dummy_para, \"himalayas,\")"
   ]
  },
  {
   "cell_type": "code",
   "execution_count": 5,
   "metadata": {},
   "outputs": [],
   "source": [
    "def remove_word(paragraph, word, replacement=\"\"):\n",
    "    if re.findall(word, paragraph, re.IGNORECASE):\n",
    "        # without using regex\n",
    "        without_regex = paragraph.replace(word, replacement)\n",
    "        print(f\"without regex: {without_regex}\")\n",
    "        \n",
    "        # using regex\n",
    "        with_regex = re.sub(word, replacement, paragraph, flags=re.IGNORECASE)\n",
    "        print(f\"with regex: {with_regex}\")\n",
    "\n",
    "    else:\n",
    "        return \"The word is not present in the paragraph.\""
   ]
  },
  {
   "cell_type": "code",
   "execution_count": 6,
   "metadata": {},
   "outputs": [
    {
     "name": "stdout",
     "output_type": "stream",
     "text": [
      "without regex: I'm planning to visit mount everest someday.\n",
      "with regex: I'm planning to visit mount everest everyday\n"
     ]
    }
   ],
   "source": [
    "test_para = \"I'm planning to visit mount everest someday.\"\n",
    "remove_word(paragraph=test_para, word=\"Someday.\", replacement=\"everyday\")"
   ]
  },
  {
   "cell_type": "markdown",
   "metadata": {},
   "source": [
    "#### Python OOP(Object Oriented Programming)"
   ]
  },
  {
   "cell_type": "code",
   "execution_count": 7,
   "metadata": {},
   "outputs": [
    {
     "name": "stdout",
     "output_type": "stream",
     "text": [
      "This is a red tesla.\n",
      "None\n",
      "new color: green.\n",
      "None\n",
      "This is a red tesla.\n",
      "I am a gm.\n"
     ]
    }
   ],
   "source": [
    "class Car:\n",
    "    def __init__(self, color=\"red\", brand=\"tesla\"):\n",
    "        self.color = color\n",
    "        self.brand = brand\n",
    "\n",
    "    def display(self):\n",
    "        print(f\"This is a {self.color} {self.brand}.\")\n",
    "    \n",
    "    @staticmethod\n",
    "    def change_color(new_color):\n",
    "        print(f\"new color: {new_color}.\")\n",
    "\n",
    "    @classmethod\n",
    "    def introduce(cls, new_brand):\n",
    "        cls.brand = new_brand  # Class variable modification\n",
    "        print(f\"I am a {cls.brand}.\")\n",
    "\n",
    "# Objects\n",
    "tesla = Car()\n",
    "print(tesla.display())\n",
    "\n",
    "print(tesla.change_color(\"green\"))\n",
    "tesla.display()\n",
    "\n",
    "tesla.introduce(\"gm\")"
   ]
  },
  {
   "cell_type": "code",
   "execution_count": 8,
   "metadata": {},
   "outputs": [
    {
     "name": "stdout",
     "output_type": "stream",
     "text": [
      "1500\n"
     ]
    }
   ],
   "source": [
    "class BankAccount:\n",
    "    def __init__(self, balance):\n",
    "        self.__balance = balance  # Private attribute\n",
    "\n",
    "    def deposit(self, amount):\n",
    "        self.__balance += amount\n",
    "\n",
    "    def get_balance(self):\n",
    "        return self.__balance\n",
    "\n",
    "account = BankAccount(1000)\n",
    "account.deposit(500)\n",
    "print(account.get_balance())"
   ]
  },
  {
   "cell_type": "markdown",
   "metadata": {},
   "source": [
    "#### class methods, static methods"
   ]
  },
  {
   "cell_type": "code",
   "execution_count": 9,
   "metadata": {},
   "outputs": [
    {
     "name": "stdout",
     "output_type": "stream",
     "text": [
      "Buddy barks.\n"
     ]
    }
   ],
   "source": [
    "class Animal:\n",
    "    def __init__(self, name):\n",
    "        self.name = name\n",
    "\n",
    "    def speak(self):\n",
    "        print(f\"{self.name} makes a sound.\")\n",
    "\n",
    "class Dog(Animal):\n",
    "    def speak(self):\n",
    "        print(f\"{self.name} barks.\")\n",
    "\n",
    "dog = Dog(\"Buddy\")\n",
    "dog.speak()"
   ]
  },
  {
   "cell_type": "code",
   "execution_count": 10,
   "metadata": {},
   "outputs": [
    {
     "name": "stdout",
     "output_type": "stream",
     "text": [
      "Circle Area: 78.5\n",
      "Rectangle Area: 24\n"
     ]
    }
   ],
   "source": [
    "class Shape:\n",
    "    def area(self):\n",
    "        pass\n",
    "\n",
    "class Circle(Shape):\n",
    "    def __init__(self, radius):\n",
    "        self.radius = radius\n",
    "\n",
    "    def area(self):\n",
    "        return 3.14 * self.radius * self.radius\n",
    "\n",
    "class Rectangle(Shape):\n",
    "    def __init__(self, length, width):\n",
    "        self.length = length\n",
    "        self.width = width\n",
    "\n",
    "    def area(self):\n",
    "        return self.length * self.width\n",
    "\n",
    "circle = Circle(5)\n",
    "rectangle = Rectangle(4, 6)\n",
    "print(\"Circle Area:\", circle.area())  \n",
    "print(\"Rectangle Area:\", rectangle.area())"
   ]
  }
 ],
 "metadata": {
  "kernelspec": {
   "display_name": "env",
   "language": "python",
   "name": "python3"
  },
  "language_info": {
   "codemirror_mode": {
    "name": "ipython",
    "version": 3
   },
   "file_extension": ".py",
   "mimetype": "text/x-python",
   "name": "python",
   "nbconvert_exporter": "python",
   "pygments_lexer": "ipython3",
   "version": "3.12.8"
  }
 },
 "nbformat": 4,
 "nbformat_minor": 2
}

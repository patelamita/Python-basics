{
 "cells": [
  {
   "cell_type": "code",
   "execution_count": 2,
   "metadata": {},
   "outputs": [],
   "source": [
    "# functions to return sum of numbers from given list\n",
    "def sum_numbers(numbers:list[float]) -> float:\n",
    "    \"\"\"returns sum of numbers from given list\n",
    "    \"\"\"\n",
    "    # return sum(numbers)\n",
    "    total = 0\n",
    "    for num in numbers:\n",
    "        total += num\n",
    "        \n",
    "    return total"
   ]
  },
  {
   "cell_type": "code",
   "execution_count": null,
   "metadata": {},
   "outputs": [
    {
     "data": {
      "text/plain": [
       "38"
      ]
     },
     "execution_count": 3,
     "metadata": {},
     "output_type": "execute_result"
    }
   ],
   "source": [
    "numbers = [2,4,5,6,7,7,7]\n",
    "result = sum_numbers(numbers)\n",
    "result\n"
   ]
  },
  {
   "cell_type": "code",
   "execution_count": 4,
   "metadata": {},
   "outputs": [],
   "source": [
    "# functions to check whether the given string is palindrome or not, ignore cases\n",
    "def is_palindrome(word:str)->bool:\n",
    "    \"\"\"Checks whether the given string is a palindrome or not, ignoring cases\n",
    "    \"\"\"\n",
    "    word = word.lower()\n",
    "    print(f\"original word: {word}\\nreversed word: {word[::-1]}\")\n",
    "    return word == word[::-1]"
   ]
  },
  {
   "cell_type": "code",
   "execution_count": 5,
   "metadata": {},
   "outputs": [
    {
     "name": "stdout",
     "output_type": "stream",
     "text": [
      "original word: radar\n",
      "reversed word: radar\n",
      "The word is a palindrome.\n"
     ]
    }
   ],
   "source": [
    "string1 = \"radar\"\n",
    "if is_palindrome(word=string1):\n",
    "    print(\"The word is a palindrome.\")\n",
    "else:\n",
    "    print(\"The word is not a palindrome.\")"
   ]
  },
  {
   "cell_type": "code",
   "execution_count": 6,
   "metadata": {},
   "outputs": [
    {
     "name": "stdout",
     "output_type": "stream",
     "text": [
      "original word: radar\n",
      "reversed word: radar\n",
      "The word is a palindrome.\n"
     ]
    }
   ],
   "source": [
    "string2 = \"radar\"\n",
    "if is_palindrome(word=string2):\n",
    "    print(\"The word is a palindrome.\")\n",
    "else:\n",
    "    print(\"The word is not a palindrome.\")"
   ]
  }
 ],
 "metadata": {
  "kernelspec": {
   "display_name": "env",
   "language": "python",
   "name": "python3"
  },
  "language_info": {
   "codemirror_mode": {
    "name": "ipython",
    "version": 3
   },
   "file_extension": ".py",
   "mimetype": "text/x-python",
   "name": "python",
   "nbconvert_exporter": "python",
   "pygments_lexer": "ipython3",
   "version": "3.12.8"
  }
 },
 "nbformat": 4,
 "nbformat_minor": 2
}

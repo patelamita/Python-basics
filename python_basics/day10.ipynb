{
 "cells": [
  {
   "cell_type": "code",
   "execution_count": 1,
   "metadata": {},
   "outputs": [],
   "source": [
    "# function to censor certain words\n",
    "import re\n",
    "\n",
    "def censor_words(para:str, words:list, replacement_word:str=\"***\"):\n",
    "    \"\"\"function to replace certain words with replacement word\n",
    "    \"\"\"\n",
    "    for word in words:\n",
    "        if word == \"Oli\":\n",
    "            para = re.sub(word, \"###\", para, flags=re.IGNORECASE)\n",
    "        else:\n",
    "            para = re.sub(word, replacement_word, para, flags=re.IGNORECASE)\n",
    "    \n",
    "    return para"
   ]
  },
  {
   "cell_type": "code",
   "execution_count": 2,
   "metadata": {},
   "outputs": [
    {
     "data": {
      "text/plain": [
       "'this is just a test sentence. which contains certain words like +++, ### and +++'"
      ]
     },
     "execution_count": 2,
     "metadata": {},
     "output_type": "execute_result"
    }
   ],
   "source": [
    "sentence = \"this is just a test sentence. which contains certain words like sher, oli and prachanda\"\n",
    "words = [\"sher\", \"prachanda\", \"Oli\", \"hari\"]\n",
    "censor_words(para=sentence, words=words, replacement_word=\"+++\")"
   ]
  },
  {
   "cell_type": "code",
   "execution_count": 3,
   "metadata": {},
   "outputs": [],
   "source": [
    "class Car:\n",
    "    number_of_wheels = 4\n",
    "\n",
    "    def __init__(self, color: str, brand:str, year: int):\n",
    "        self.color = color\n",
    "        self.brand = brand\n",
    "        self.year = year\n",
    "    \n",
    "    def display(self, new_color):\n",
    "        print(f\"This is a {new_color} {self.brand} car.\")\n",
    "        print(f\"this car has {self.number_of_wheels} wheels.\")\n",
    "    \n",
    "    def is_old(self):\n",
    "        if self.year < 2010:\n",
    "            return True\n",
    "        return False"
   ]
  },
  {
   "cell_type": "code",
   "execution_count": 4,
   "metadata": {},
   "outputs": [
    {
     "name": "stdout",
     "output_type": "stream",
     "text": [
      "This is a green tesla car.\n",
      "this car has 4 wheels.\n"
     ]
    },
    {
     "data": {
      "text/plain": [
       "False"
      ]
     },
     "execution_count": 4,
     "metadata": {},
     "output_type": "execute_result"
    }
   ],
   "source": [
    "car1 = Car(color=\"red\", brand=\"tesla\", year=2012)\n",
    "car1.display(new_color=\"green\")\n",
    "\n",
    "car1.is_old()"
   ]
  },
  {
   "cell_type": "code",
   "execution_count": 34,
   "metadata": {},
   "outputs": [],
   "source": [
    "def sum_list(l):\n",
    "    total = 0 \n",
    "    for i in l:\n",
    "        total += i\n",
    "    return total   "
   ]
  },
  {
   "cell_type": "code",
   "execution_count": 35,
   "metadata": {},
   "outputs": [
    {
     "name": "stdout",
     "output_type": "stream",
     "text": [
      "15\n"
     ]
    }
   ],
   "source": [
    "l = [1, 2, 3, 4, 5]\n",
    "print(sum_list(l)) "
   ]
  },
  {
   "cell_type": "code",
   "execution_count": 17,
   "metadata": {},
   "outputs": [],
   "source": [
    "def check_palindrome(strings:str)->bool:\n",
    "    \n",
    "    strings= strings.lower()\n",
    "    \n",
    "    if strings == strings[::-1]:\n",
    "        return True\n",
    "    return False\n",
    "    "
   ]
  },
  {
   "cell_type": "code",
   "execution_count": 20,
   "metadata": {},
   "outputs": [
    {
     "name": "stdout",
     "output_type": "stream",
     "text": [
      "String is palindrome\n"
     ]
    }
   ],
   "source": [
    "strings = \"Dad\"\n",
    "check_palindrome(strings)\n",
    "if check_palindrome(strings) == True:\n",
    "    print(\"String is palindrome\")\n",
    "else:\n",
    "    print(\"String is not palindrome\")\n"
   ]
  },
  {
   "cell_type": "code",
   "execution_count": null,
   "metadata": {},
   "outputs": [
    {
     "name": "stdout",
     "output_type": "stream",
     "text": [
      "Your total balance is 1200000\n"
     ]
    },
    {
     "ename": "AttributeError",
     "evalue": "'BankAcount' object has no attribute 'amount'",
     "output_type": "error",
     "traceback": [
      "\u001b[1;31m---------------------------------------------------------------------------\u001b[0m",
      "\u001b[1;31mAttributeError\u001b[0m                            Traceback (most recent call last)",
      "Cell \u001b[1;32mIn[3], line 19\u001b[0m\n\u001b[0;32m     16\u001b[0m         \u001b[38;5;28mprint\u001b[39m(\u001b[38;5;124mf\u001b[39m\u001b[38;5;124m\"\u001b[39m\u001b[38;5;124mthe total balance is \u001b[39m\u001b[38;5;132;01m{\u001b[39;00m\u001b[38;5;28mself\u001b[39m\u001b[38;5;241m.\u001b[39mtotal_balance\u001b[38;5;132;01m}\u001b[39;00m\u001b[38;5;124m\"\u001b[39m)\n\u001b[0;32m     18\u001b[0m a \u001b[38;5;241m=\u001b[39m BankAcount(\u001b[38;5;241m1200000\u001b[39m)\n\u001b[1;32m---> 19\u001b[0m \u001b[43ma\u001b[49m\u001b[38;5;241;43m.\u001b[39;49m\u001b[43mdeposit\u001b[49m\u001b[43m(\u001b[49m\u001b[38;5;241;43m3000\u001b[39;49m\u001b[43m)\u001b[49m\n\u001b[0;32m     20\u001b[0m a\u001b[38;5;241m.\u001b[39mwithdrawal(\u001b[38;5;241m1000\u001b[39m)\n\u001b[0;32m     21\u001b[0m a\u001b[38;5;241m.\u001b[39mget_info()\n",
      "Cell \u001b[1;32mIn[3], line 7\u001b[0m, in \u001b[0;36mBankAcount.deposit\u001b[1;34m(self, amount)\u001b[0m\n\u001b[0;32m      6\u001b[0m \u001b[38;5;28;01mdef\u001b[39;00m\u001b[38;5;250m \u001b[39m\u001b[38;5;21mdeposit\u001b[39m(\u001b[38;5;28mself\u001b[39m,amount):\n\u001b[1;32m----> 7\u001b[0m     \u001b[38;5;28mself\u001b[39m\u001b[38;5;241m.\u001b[39mtotal_balance \u001b[38;5;241m+\u001b[39m\u001b[38;5;241m=\u001b[39m\u001b[38;5;28;43mself\u001b[39;49m\u001b[38;5;241;43m.\u001b[39;49m\u001b[43mamount\u001b[49m\n\u001b[0;32m      8\u001b[0m     \u001b[38;5;28mprint\u001b[39m(\u001b[38;5;124mf\u001b[39m\u001b[38;5;124m\"\u001b[39m\u001b[38;5;124mAfter deposit your balance is \u001b[39m\u001b[38;5;132;01m{\u001b[39;00m\u001b[38;5;28mself\u001b[39m\u001b[38;5;241m.\u001b[39mtotal_balance\u001b[38;5;132;01m}\u001b[39;00m\u001b[38;5;124m\"\u001b[39m)\n",
      "\u001b[1;31mAttributeError\u001b[0m: 'BankAcount' object has no attribute 'amount'"
     ]
    }
   ],
   "source": [
    "class BankAcount:\n",
    "    am\n",
    "    def __init__(self,total_balance):\n",
    "        self.total_balance = total_balance\n",
    "        print(f\"Your total balance is {self.total_balance}\")\n",
    "    \n",
    "    def deposit(self,amount):\n",
    "        self.total_balance +=self.amount\n",
    "        print(f\"After deposit your balance is {self.total_balance}\")\n",
    "        \n",
    "    def withdrawal(self,withdrawal_amount):    \n",
    "            self.total_balance -=self.withdrawal_amount\n",
    "            print(f\"After deposit your balance is {self.withdrawal_amount}\")\n",
    "            \n",
    "    def get_info(self):\n",
    "        self.total_balance\n",
    "        print(f\"the total balance is {self.total_balance}\")\n",
    "\n",
    "a = BankAcount(1200000)\n",
    "a.deposit(3000)\n",
    "a.withdrawal(1000)\n",
    "a.get_info()\n",
    "    \n",
    "                "
   ]
  },
  {
   "cell_type": "code",
   "execution_count": null,
   "metadata": {},
   "outputs": [],
   "source": [
    "class BankAccount:\n",
    "    def __init__(self, total_balance):\n",
    "        self.total_balance = total_balance\n",
    "        print(f\"Your total balance is {self.total_balance}\")\n",
    "\n",
    "    def deposit(self, amount):\n",
    "        if amount <0 :\n",
    "        self.total_balance += amount\n",
    "        \n",
    "        print(f\"After deposit, your balance is {self.total_balance}\")\n",
    "\n",
    "    def withdrawal(self, withdrawal_amount):\n",
    "        if withdrawal_amount > self.total_balance:\n",
    "            raise ValueError(\"Insufficient funds!\")\n",
    "        else:\n",
    "            self.total_balance -= withdrawal_amount\n",
    "            print(f\"After withdrawal, your balance is {self.total_balance}\")\n",
    "\n",
    "    def get_info(self):\n",
    "        print(f\"The total balance is {self.total_balance}\")\n"
   ]
  },
  {
   "cell_type": "code",
   "execution_count": 7,
   "metadata": {},
   "outputs": [
    {
     "name": "stdout",
     "output_type": "stream",
     "text": [
      "Your total balance is 1000\n",
      "After deposit, your balance is -2000\n",
      "Insufficient funds!\n",
      "The total balance is -2000\n"
     ]
    }
   ],
   "source": [
    "a = BankAccount(1000)\n",
    "a.deposit(-3000)\n",
    "a.withdrawal(1000)\n",
    "a.get_info()"
   ]
  },
  {
   "cell_type": "code",
   "execution_count": null,
   "metadata": {},
   "outputs": [],
   "source": []
  }
 ],
 "metadata": {
  "kernelspec": {
   "display_name": "env",
   "language": "python",
   "name": "python3"
  },
  "language_info": {
   "codemirror_mode": {
    "name": "ipython",
    "version": 3
   },
   "file_extension": ".py",
   "mimetype": "text/x-python",
   "name": "python",
   "nbconvert_exporter": "python",
   "pygments_lexer": "ipython3",
   "version": "3.12.8"
  }
 },
 "nbformat": 4,
 "nbformat_minor": 2
}

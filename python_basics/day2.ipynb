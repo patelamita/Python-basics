{
 "cells": [
  {
   "cell_type": "markdown",
   "metadata": {},
   "source": [
    "## Python Basics Day 2"
   ]
  },
  {
   "cell_type": "markdown",
   "metadata": {},
   "source": [
    "#### control statement"
   ]
  },
  {
   "cell_type": "code",
   "execution_count": 3,
   "metadata": {},
   "outputs": [
    {
     "name": "stdout",
     "output_type": "stream",
     "text": [
      "You are 34 years old\n",
      "You are adult\n"
     ]
    }
   ],
   "source": [
    "# writ a control statement to check weather the given person is adult or teenager\n",
    "age = int(input(\"Enter your age here: \"))\n",
    "print(f\"You are {age} years old\")\n",
    "if age<20 and age>=10:\n",
    "    print(\"You are teenager\")\n",
    "elif age<10:\n",
    "    print(\"You are child\")    \n",
    "else:\n",
    "    print(\"You are adult\") "
   ]
  },
  {
   "cell_type": "markdown",
   "metadata": {},
   "source": [
    "For loop"
   ]
  },
  {
   "cell_type": "code",
   "execution_count": 4,
   "metadata": {},
   "outputs": [
    {
     "name": "stdout",
     "output_type": "stream",
     "text": [
      "0\n",
      "1\n",
      "2\n",
      "3\n",
      "4\n",
      "5\n",
      "6\n",
      "7\n",
      "8\n",
      "9\n"
     ]
    }
   ],
   "source": [
    "# print 0 to 10\n",
    "for i in range(0,10):\n",
    "    print(i)"
   ]
  },
  {
   "cell_type": "code",
   "execution_count": 5,
   "metadata": {},
   "outputs": [
    {
     "name": "stdout",
     "output_type": "stream",
     "text": [
      "0\n",
      "2\n",
      "4\n",
      "6\n",
      "8\n"
     ]
    }
   ],
   "source": [
    "# Range (start end jump)\n",
    "for i in range(0,10,2):\n",
    "    print(i)"
   ]
  },
  {
   "cell_type": "code",
   "execution_count": 18,
   "metadata": {},
   "outputs": [
    {
     "name": "stdout",
     "output_type": "stream",
     "text": [
      "0: is even\n",
      "1: is odd\n",
      "2: is even\n",
      "3: is odd\n",
      "4: is even\n",
      "5: is odd\n",
      "6: is even\n",
      "7: is odd\n",
      "8: is even\n",
      "9: is odd\n"
     ]
    }
   ],
   "source": [
    "# print even number 0 to 10\n",
    "#to check even num\n",
    "for num in range(0,10):\n",
    "    if num%2==0:\n",
    "        print(f\"{num}: is even\")\n",
    "    else:\n",
    "        print(f\"{num}: is odd\")"
   ]
  },
  {
   "cell_type": "code",
   "execution_count": 20,
   "metadata": {},
   "outputs": [
    {
     "name": "stdout",
     "output_type": "stream",
     "text": [
      "0: is divisible by 5\n",
      "5: is divisible by 5\n",
      "10: is divisible by 5\n",
      "15: is divisible by 5\n",
      "20: is divisible by 5\n"
     ]
    }
   ],
   "source": [
    "#to check even num\n",
    "for num in range(0,21):\n",
    "    if num%5==0:\n",
    "        print(f\"{num}: is divisible by 5\")\n",
    "  "
   ]
  },
  {
   "cell_type": "markdown",
   "metadata": {},
   "source": []
  },
  {
   "cell_type": "code",
   "execution_count": null,
   "metadata": {},
   "outputs": [],
   "source": []
  }
 ],
 "metadata": {
  "kernelspec": {
   "display_name": "env",
   "language": "python",
   "name": "python3"
  },
  "language_info": {
   "codemirror_mode": {
    "name": "ipython",
    "version": 3
   },
   "file_extension": ".py",
   "mimetype": "text/x-python",
   "name": "python",
   "nbconvert_exporter": "python",
   "pygments_lexer": "ipython3",
   "version": "3.12.8"
  }
 },
 "nbformat": 4,
 "nbformat_minor": 2
}

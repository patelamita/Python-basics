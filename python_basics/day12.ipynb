{
 "cells": [
  {
   "cell_type": "markdown",
   "metadata": {},
   "source": [
    "#### Classes and Objects\n",
    "\n",
    "- A class is a blueprint for creating objects. It defines the attributes (data) and methods (functions) that the objects will have.\n",
    "\n",
    "- An object is an instance of a class. It contains actual data and can perform actions defined by the class."
   ]
  },
  {
   "cell_type": "code",
   "execution_count": 4,
   "metadata": {},
   "outputs": [],
   "source": [
    "class Dog:\n",
    "    # Class attribute (shared by all instances)\n",
    "    species = \"German shepard\"\n",
    "\n",
    "    # Constructor (initializer) method\n",
    "    def __init__(self, name:str, age:int)->None:\n",
    "        # Instance attributes (unique to each instance)\n",
    "        self.name = name\n",
    "        self.age = age\n",
    "        if age < 0:\n",
    "            raise ValueError(\"Age must be a positive integer\")\n",
    "\n",
    "    def info(self):\n",
    "        return f\"Name: {self.name}, Age: {self.age}\"\n",
    "\n",
    "    # Instance method\n",
    "    def bark(self):\n",
    "        return f\"{self.name} says woof!\"\n",
    "    \n",
    "    def is_old(self):\n",
    "        if self.age >= 3:\n",
    "            return True"
   ]
  },
  {
   "cell_type": "code",
   "execution_count": 5,
   "metadata": {},
   "outputs": [
    {
     "name": "stdout",
     "output_type": "stream",
     "text": [
      "Buddy\n",
      "Name: Buddy, Age: 2\n",
      "Max says woof!\n",
      "puppy says woof!\n",
      "German shepard\n"
     ]
    }
   ],
   "source": [
    "# Create objects (instances of the class)\n",
    "dog1 = Dog(\"Buddy\", 2)\n",
    "dog2 = Dog(\"Max\", 5)\n",
    "dog3 = Dog(\"puppy\", 1)\n",
    "\n",
    "# Access attributes and methods\n",
    "print(dog1.name)\n",
    "print(dog1.info())\n",
    "print(dog2.bark())\n",
    "print(dog3.bark())   \n",
    "print(dog1.species)  "
   ]
  },
  {
   "cell_type": "code",
   "execution_count": 6,
   "metadata": {},
   "outputs": [
    {
     "name": "stdout",
     "output_type": "stream",
     "text": [
      "value error: Age must be a positive integer\n"
     ]
    }
   ],
   "source": [
    "try:\n",
    "    dog4 = Dog(\"big puppy\", -2)\n",
    "    print(dog4.info())\n",
    "    print(dog4.bark())\n",
    "\n",
    "except ValueError as ve:\n",
    "    print(f\"value error: {ve}\")  \n",
    "\n",
    "except Exception as e:\n",
    "    print(f\"exception: {e}\") "
   ]
  },
  {
   "cell_type": "markdown",
   "metadata": {},
   "source": [
    "#### Encapsulation\n",
    "\n",
    "- Encapsulation is achieved by using private and protected attributes/methods:\n",
    "\n",
    "- Private members: Use a double underscore __ prefix. These are not accessible outside the class.\n",
    "\n",
    "- Protected members: Use a single underscore _ prefix. These are accessible but should not be modified directly."
   ]
  },
  {
   "cell_type": "code",
   "execution_count": 7,
   "metadata": {},
   "outputs": [
    {
     "name": "stdout",
     "output_type": "stream",
     "text": [
      "1500\n"
     ]
    }
   ],
   "source": [
    "class BankAccount:\n",
    "    def __init__(self, balance):\n",
    "        self.__balance = balance  # Private attribute\n",
    "\n",
    "    def deposit(self, amount):\n",
    "        self.__balance += amount\n",
    "\n",
    "    def get_balance(self):\n",
    "        return self.__balance\n",
    "\n",
    "account = BankAccount(1000)\n",
    "account.deposit(500)\n",
    "print(account.get_balance())  "
   ]
  },
  {
   "cell_type": "markdown",
   "metadata": {},
   "source": [
    "#### Inheritance\n",
    "Inheritance allows a class (child class) to inherit attributes and methods from another class (parent class)."
   ]
  },
  {
   "cell_type": "code",
   "execution_count": 8,
   "metadata": {},
   "outputs": [
    {
     "name": "stdout",
     "output_type": "stream",
     "text": [
      "Whiskers says meow!\n",
      "Buddy says woof!\n"
     ]
    }
   ],
   "source": [
    "# Parent class\n",
    "class Animal:\n",
    "    def __init__(self, name):\n",
    "        self.name = name\n",
    "\n",
    "    def speak(self):\n",
    "        return \"Sound\"\n",
    "\n",
    "# Child class\n",
    "class Cat(Animal):\n",
    "    def speak(self):\n",
    "        return f\"{self.name} says meow!\"\n",
    "\n",
    "class Dog(Animal):\n",
    "    def speak(self):\n",
    "        return f\"{self.name} says woof!\"\n",
    "\n",
    "cat = Cat(\"Whiskers\")\n",
    "dog = Dog(\"Buddy\")\n",
    "\n",
    "print(cat.speak())  \n",
    "print(dog.speak()) "
   ]
  },
  {
   "cell_type": "code",
   "execution_count": 9,
   "metadata": {},
   "outputs": [
    {
     "name": "stdout",
     "output_type": "stream",
     "text": [
      "Brand: Toyota, Fuel Type: Gasoline, Model: Camry, Doors: 4\n"
     ]
    }
   ],
   "source": [
    "class Vehicle:\n",
    "    def __init__(self, brand, fuel_type):\n",
    "        self.brand = brand  # Parent class attribute\n",
    "        self.fuel_type = fuel_type  # Parent class attribute\n",
    "\n",
    "    def display_info(self):\n",
    "        return f\"Brand: {self.brand}, Fuel Type: {self.fuel_type}\"\n",
    "    \n",
    "\n",
    "class Car(Vehicle):\n",
    "    def __init__(self, brand, fuel_type, model, num_doors):\n",
    "        super().__init__(brand, fuel_type)  # Call the parent class constructor\n",
    "        self.model = model  # Child class attribute\n",
    "        self.num_doors = num_doors  # Child class attribute\n",
    "\n",
    "    def display_car_info(self):\n",
    "        # Access parent class attributes using self\n",
    "        vehicle_info = super().display_info()  # Call parent class method\n",
    "        return f\"{vehicle_info}, Model: {self.model}, Doors: {self.num_doors}\"\n",
    "    \n",
    "\n",
    "car = Car(\"Toyota\", \"Gasoline\", \"Camry\", 4)\n",
    "print(car.display_car_info()) "
   ]
  },
  {
   "cell_type": "markdown",
   "metadata": {},
   "source": [
    "#### Polymorphism\n",
    "Polymorphism allows objects of different classes to be treated as objects of a common superclass. It is often achieved through method overriding."
   ]
  },
  {
   "cell_type": "code",
   "execution_count": 10,
   "metadata": {},
   "outputs": [
    {
     "name": "stdout",
     "output_type": "stream",
     "text": [
      "Sparrow is flying\n",
      "Penguin cannot fly\n"
     ]
    }
   ],
   "source": [
    "class Bird:\n",
    "    def fly(self):\n",
    "        return \"Flying\"\n",
    "\n",
    "class Sparrow(Bird):\n",
    "    def fly(self):\n",
    "        return \"Sparrow is flying\"\n",
    "\n",
    "class Penguin(Bird):\n",
    "    def fly(self):\n",
    "        return \"Penguin cannot fly\"\n",
    "\n",
    "def bird_fly(bird):\n",
    "    print(bird.fly())\n",
    "\n",
    "sparrow = Sparrow()\n",
    "penguin = Penguin()\n",
    "\n",
    "bird_fly(sparrow)  \n",
    "bird_fly(penguin)"
   ]
  },
  {
   "cell_type": "markdown",
   "metadata": {},
   "source": [
    "#### Abstraction\n",
    "Abstraction is achieved by hiding complex implementation details and exposing only the necessary features. In Python, abstraction can be implemented using abstract base classes (ABCs)."
   ]
  },
  {
   "cell_type": "code",
   "execution_count": 11,
   "metadata": {},
   "outputs": [
    {
     "name": "stdout",
     "output_type": "stream",
     "text": [
      "78.5\n",
      "31.400000000000002\n"
     ]
    }
   ],
   "source": [
    "from abc import ABC, abstractmethod\n",
    "\n",
    "# Abstract class\n",
    "class Shape(ABC):\n",
    "    @abstractmethod\n",
    "    def area(self):\n",
    "        pass\n",
    "\n",
    "    @abstractmethod\n",
    "    def perimeter(self):\n",
    "        pass\n",
    "\n",
    "# Concrete class\n",
    "class Circle(Shape):\n",
    "    def __init__(self, radius):\n",
    "        self.radius = radius\n",
    "\n",
    "    def area(self):\n",
    "        return 3.14 * self.radius ** 2\n",
    "\n",
    "    def perimeter(self):\n",
    "        return 2 * 3.14 * self.radius\n",
    "\n",
    "circle = Circle(5)\n",
    "print(circle.area()) \n",
    "print(circle.perimeter())  "
   ]
  },
  {
   "cell_type": "markdown",
   "metadata": {},
   "source": [
    "#### Class and Static Methods"
   ]
  },
  {
   "cell_type": "code",
   "execution_count": 12,
   "metadata": {},
   "outputs": [
    {
     "name": "stdout",
     "output_type": "stream",
     "text": [
      "Toyota Corolla\n",
      "6\n",
      "True\n"
     ]
    }
   ],
   "source": [
    "class Car:\n",
    "    # Class attribute\n",
    "    wheels = 4\n",
    "\n",
    "    def __init__(self, brand, model):\n",
    "        self.brand = brand\n",
    "        self.model = model\n",
    "\n",
    "    # Instance method\n",
    "    def display_info(self):\n",
    "        return f\"{self.brand} {self.model}\"\n",
    "\n",
    "    # Class method\n",
    "    @classmethod\n",
    "    def change_wheels(cls, new_wheels):\n",
    "        cls.wheels = new_wheels\n",
    "\n",
    "    # Static method\n",
    "    @staticmethod\n",
    "    def is_electric(brand):\n",
    "        return brand.lower() == \"tesla\"\n",
    "\n",
    "# Create objects\n",
    "car1 = Car(\"Toyota\", \"Corolla\")\n",
    "car2 = Car(\"Tesla\", \"Model S\")\n",
    "\n",
    "# Access instance method\n",
    "print(car1.display_info())  \n",
    "\n",
    "# Access class method\n",
    "Car.change_wheels(6)\n",
    "print(car1.wheels)  \n",
    "\n",
    "# Access static method\n",
    "print(Car.is_electric(\"Tesla\"))  "
   ]
  }
 ],
 "metadata": {
  "kernelspec": {
   "display_name": "env",
   "language": "python",
   "name": "python3"
  },
  "language_info": {
   "codemirror_mode": {
    "name": "ipython",
    "version": 3
   },
   "file_extension": ".py",
   "mimetype": "text/x-python",
   "name": "python",
   "nbconvert_exporter": "python",
   "pygments_lexer": "ipython3",
   "version": "3.12.8"
  }
 },
 "nbformat": 4,
 "nbformat_minor": 2
}

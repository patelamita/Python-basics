{
 "cells": [
  {
   "cell_type": "markdown",
   "metadata": {},
   "source": [
    "## Day_4 review"
   ]
  },
  {
   "cell_type": "code",
   "execution_count": 1,
   "metadata": {},
   "outputs": [
    {
     "name": "stdout",
     "output_type": "stream",
     "text": [
      "Welcome to Nepal!\n",
      "Welcome to USA!\n"
     ]
    }
   ],
   "source": [
    "# function\n",
    "def greet(country=\"Nepal\"):\n",
    "    print(f\"Welcome to {country}!\")\n",
    "\n",
    "greet()\n",
    "country = \"USA\"\n",
    "greet(country)"
   ]
  },
  {
   "cell_type": "code",
   "execution_count": 2,
   "metadata": {},
   "outputs": [
    {
     "data": {
      "text/plain": [
       "True"
      ]
     },
     "execution_count": 2,
     "metadata": {},
     "output_type": "execute_result"
    }
   ],
   "source": [
    "def is_even(num):\n",
    "    # if num % 2 == 0:\n",
    "    #     return True\n",
    "    # else:\n",
    "    #     return False\n",
    "    return num % 2 == 0\n",
    "\n",
    "num = 10\n",
    "is_even(num)"
   ]
  },
  {
   "cell_type": "code",
   "execution_count": 3,
   "metadata": {},
   "outputs": [
    {
     "data": {
      "text/plain": [
       "16"
      ]
     },
     "execution_count": 3,
     "metadata": {},
     "output_type": "execute_result"
    }
   ],
   "source": [
    "def add_two_num(num1, num2):\n",
    "    return num1 + num2\n",
    "\n",
    "add_two_num(10,6)"
   ]
  },
  {
   "cell_type": "code",
   "execution_count": 4,
   "metadata": {},
   "outputs": [
    {
     "data": {
      "text/plain": [
       "20"
      ]
     },
     "execution_count": 4,
     "metadata": {},
     "output_type": "execute_result"
    }
   ],
   "source": [
    "# args & kwargs\n",
    "def add_numbers(*args):\n",
    "    total = 0\n",
    "    for num in args:\n",
    "        total += num\n",
    "        \n",
    "    return total\n",
    "\n",
    "add_numbers(1,2,3,4,10)"
   ]
  },
  {
   "cell_type": "code",
   "execution_count": 5,
   "metadata": {},
   "outputs": [
    {
     "data": {
      "text/plain": [
       "83"
      ]
     },
     "execution_count": 5,
     "metadata": {},
     "output_type": "execute_result"
    }
   ],
   "source": [
    "# kwargs\n",
    "def add_numbers1(**kwargs):\n",
    "    total = 0\n",
    "    for key, value in kwargs.items():\n",
    "        total += value\n",
    "        # print(f\"key: {key}, value: {value}, total: {total}\")\n",
    "    return total\n",
    "\n",
    "nums = {\"num1\": 14, \"num2\": 13, \"num3\":10, \"num4\":34, 'num':12}\n",
    "add_numbers1(**nums)"
   ]
  },
  {
   "cell_type": "markdown",
   "metadata": {},
   "source": [
    "#### different between *args and **kwargs"
   ]
  },
  {
   "cell_type": "code",
   "execution_count": 6,
   "metadata": {},
   "outputs": [],
   "source": [
    "def student_info(name:str, age:int, grade:float=3.4, is_passed:bool=True)->None:\n",
    "    print(f\"Name: {name}, Age: {age}, Grade: {grade}, Passed: {is_passed}\")"
   ]
  },
  {
   "cell_type": "code",
   "execution_count": 7,
   "metadata": {},
   "outputs": [
    {
     "name": "stdout",
     "output_type": "stream",
     "text": [
      "Name: 12, Age: 34, Grade: 3.4, Passed: True\n"
     ]
    }
   ],
   "source": [
    "student_info(12, age=34)"
   ]
  },
  {
   "cell_type": "code",
   "execution_count": 8,
   "metadata": {},
   "outputs": [
    {
     "name": "stdout",
     "output_type": "stream",
     "text": [
      "Name: ram, Age: 35, Grade: 3.2, Passed: False\n"
     ]
    }
   ],
   "source": [
    "student_info(\"ram\", 35, 3.2, False)"
   ]
  },
  {
   "cell_type": "code",
   "execution_count": 9,
   "metadata": {},
   "outputs": [
    {
     "name": "stdout",
     "output_type": "stream",
     "text": [
      "Name: ram, Age: 34, Grade: 2.3, Passed: False\n"
     ]
    }
   ],
   "source": [
    "student_info(name=\"ram\", grade=2.3, age=34, is_passed=False)"
   ]
  },
  {
   "cell_type": "code",
   "execution_count": 16,
   "metadata": {},
   "outputs": [
    {
     "name": "stdout",
     "output_type": "stream",
     "text": [
      "Error: 'name' is required.\n",
      "Ram has failed with a grade of '0.0'.\n"
     ]
    }
   ],
   "source": [
    "# write a function to check whether given student is either passed of failed\n",
    "# student = {name, department, address, grade}\n",
    "# grade > 3 -> passed else failed\n",
    "# output format:\n",
    "# name -> passed or failed\n",
    "def check_passed(**student_info):\n",
    "    name = student_info.get(\"name\") \n",
    "    grade = student_info.get(\"grade\", 0.0) \n",
    "    \n",
    "    if not name:\n",
    "        print(\"Error: 'name' is required.\")  # Handle missing 'name'\n",
    "        return\n",
    "    \n",
    "    if grade > 3.0:\n",
    "        print(f\"{name} has passed with a grade of '{grade}'.\")\n",
    "    else:\n",
    "        print(f\"{name} has failed with a grade of '{grade}'.\")\n",
    "\n",
    "# Test cases\n",
    "student1 = {\"grade\": 2.0}  # Missing 'name'\n",
    "check_passed(**student1)  # Prints an error message for missing 'name'\n",
    "\n",
    "student2 = {\"name\": \"Ram\"}# Missing 'grade'\n",
    "check_passed(**student2)  # Uses default grade (0.0) and prints the result\n"
   ]
  },
  {
   "cell_type": "code",
   "execution_count": 17,
   "metadata": {},
   "outputs": [],
   "source": [
    "def check_highest_marks(marks:list):\n",
    "    return max(marks)\n",
    "\n",
    "# marks = [10, 20, 30, 40, 50]\n",
    "# check_highest_marks(marks)"
   ]
  },
  {
   "cell_type": "code",
   "execution_count": 18,
   "metadata": {},
   "outputs": [],
   "source": [
    "def check_passed_with_error_handling(**student_info):\n",
    "    try:\n",
    "        grade = student_info.get(\"grade\", 0.0)\n",
    "        name = student_info[\"name\"]\n",
    "        if not name:\n",
    "            print(\"Name is required.\")\n",
    "            return None\n",
    "        if grade > 3.0:\n",
    "            print(f\"{name} is passed with grade '{grade}'.\")\n",
    "        else:\n",
    "            print(f\"{name} is failed with grade '{grade}'.\")\n",
    "    \n",
    "    except KeyError as ke:\n",
    "        print(f\"Error: Missing required key in student info: {str(ke)}\")\n",
    "        return None\n",
    "    except Exception as e:\n",
    "        print(f\"An error occurred: {str(e)}\")\n",
    "        return None"
   ]
  },
  {
   "cell_type": "code",
   "execution_count": 19,
   "metadata": {},
   "outputs": [
    {
     "name": "stdout",
     "output_type": "stream",
     "text": [
      "Error: 'name' is required.\n"
     ]
    }
   ],
   "source": [
    "student1 = {\"grade\": 3.4, \"department\": \"Computer Science\"}\n",
    "check_passed(**student1)"
   ]
  },
  {
   "cell_type": "code",
   "execution_count": 20,
   "metadata": {},
   "outputs": [
    {
     "name": "stdout",
     "output_type": "stream",
     "text": [
      "Error: Missing required key in student info: 'name'\n"
     ]
    }
   ],
   "source": [
    "check_passed_with_error_handling(**student1)"
   ]
  }
 ],
 "metadata": {
  "kernelspec": {
   "display_name": "env",
   "language": "python",
   "name": "python3"
  },
  "language_info": {
   "codemirror_mode": {
    "name": "ipython",
    "version": 3
   },
   "file_extension": ".py",
   "mimetype": "text/x-python",
   "name": "python",
   "nbconvert_exporter": "python",
   "pygments_lexer": "ipython3",
   "version": "3.12.8"
  }
 },
 "nbformat": 4,
 "nbformat_minor": 2
}

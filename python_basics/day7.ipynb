{
 "cells": [
  {
   "cell_type": "markdown",
   "metadata": {},
   "source": [
    "#### day_6 review"
   ]
  },
  {
   "cell_type": "code",
   "execution_count": 1,
   "metadata": {},
   "outputs": [
    {
     "data": {
      "text/plain": [
       "'Hello Amita, welcome to python and data science class.'"
      ]
     },
     "execution_count": 1,
     "metadata": {},
     "output_type": "execute_result"
    }
   ],
   "source": [
    "# python module\n",
    "from calculator.greeting import greet\n",
    "greet(\"Amita\")"
   ]
  },
  {
   "cell_type": "code",
   "execution_count": 3,
   "metadata": {},
   "outputs": [
    {
     "data": {
      "text/plain": [
       "3.4641016151377544"
      ]
     },
     "execution_count": 3,
     "metadata": {},
     "output_type": "execute_result"
    }
   ],
   "source": [
    "from math import sqrt\n",
    "sqrt(12)"
   ]
  },
  {
   "cell_type": "markdown",
   "metadata": {},
   "source": [
    "#### regex(Reguralar Expression)"
   ]
  },
  {
   "cell_type": "code",
   "execution_count": 4,
   "metadata": {},
   "outputs": [
    {
     "name": "stdout",
     "output_type": "stream",
     "text": [
      "['ai', 'ai']\n"
     ]
    }
   ],
   "source": [
    "import re\n",
    "\n",
    "txt = \"The rain in Spain\"\n",
    "x = re.findall(\"ai\", txt)\n",
    "print(x)"
   ]
  },
  {
   "cell_type": "code",
   "execution_count": 10,
   "metadata": {},
   "outputs": [
    {
     "name": "stdout",
     "output_type": "stream",
     "text": [
      "['john@example.com', 'rama@act.np']\n"
     ]
    }
   ],
   "source": [
    "# extract email\n",
    "import re\n",
    "\n",
    "txt = \"My email address is john@example.com and rama@act.np \"\n",
    "x = re.findall(r'\\b[A-Za-z0-9._%+-]+@[A-Za-z0-9.-]+\\.[A-Z|a-z]{2,}\\b', txt)\n",
    "print(x)"
   ]
  },
  {
   "cell_type": "markdown",
   "metadata": {},
   "source": [
    "#### File Handling"
   ]
  },
  {
   "cell_type": "code",
   "execution_count": 8,
   "metadata": {},
   "outputs": [
    {
     "name": "stdout",
     "output_type": "stream",
     "text": [
      "file not found\n"
     ]
    }
   ],
   "source": [
    "# read from file\n",
    "filepath = \"../files/example.txt\"\n",
    "try:\n",
    "    f = open(filepath, \"r\")\n",
    "    print(f.read())\n",
    "    f.close()\n",
    "\n",
    "except FileNotFoundError:\n",
    "    print(\"file not found\")"
   ]
  },
  {
   "cell_type": "code",
   "execution_count": 13,
   "metadata": {},
   "outputs": [
    {
     "name": "stdout",
     "output_type": "stream",
     "text": [
      "This is test file. My email is test@example.com.\n"
     ]
    }
   ],
   "source": [
    "# file read\n",
    "filepath = \"../file/example.txt\"\n",
    "with open(filepath, \"r\") as f:\n",
    "    content = f.read()\n",
    "    print(content)"
   ]
  },
  {
   "cell_type": "code",
   "execution_count": 17,
   "metadata": {},
   "outputs": [],
   "source": [
    "# write to file\n",
    "student_info = {\n",
    "    \"name\": \"John Doe\",\n",
    "    \"age\": 25,\n",
    "    \"grade\": 8.5\n",
    "}\n",
    "filepath = \"../file/example1.json\"\n",
    "with open(filepath, \"w\") as f:\n",
    "    f.write(str(student_info))"
   ]
  },
  {
   "cell_type": "code",
   "execution_count": 19,
   "metadata": {},
   "outputs": [],
   "source": [
    "# append text to file\n",
    "filepath = \"../file/example1.txt\"\n",
    "try:\n",
    "    with open(filepath, \"a\") as f:\n",
    "        f.write(\"\\nThis is an appended text.\")\n",
    "\n",
    "except FileNotFoundError:\n",
    "    print(\"File not found.\")"
   ]
  },
  {
   "cell_type": "code",
   "execution_count": 20,
   "metadata": {},
   "outputs": [
    {
     "name": "stdout",
     "output_type": "stream",
     "text": [
      "File not found.\n",
      "after: This is test file. My email is test@gmail.com.\n"
     ]
    }
   ],
   "source": [
    "# read from file\n",
    "import re\n",
    "filepath = \"../files/example.txt\"\n",
    "try:\n",
    "    with open(filepath, 'r') as f:\n",
    "        content = f.read()\n",
    "        print(f\"before: {content}\")\n",
    "except FileNotFoundError:\n",
    "    print(\"File not found.\")\n",
    "    # replace email\n",
    "after_content = content.replace(\"test@example.com\", \"test@gmail.com\")\n",
    "print(f\"after: {after_content}\")"
   ]
  }
 ],
 "metadata": {
  "kernelspec": {
   "display_name": "env",
   "language": "python",
   "name": "python3"
  },
  "language_info": {
   "codemirror_mode": {
    "name": "ipython",
    "version": 3
   },
   "file_extension": ".py",
   "mimetype": "text/x-python",
   "name": "python",
   "nbconvert_exporter": "python",
   "pygments_lexer": "ipython3",
   "version": "3.12.8"
  }
 },
 "nbformat": 4,
 "nbformat_minor": 2
}

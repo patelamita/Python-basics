{
 "cells": [
  {
   "cell_type": "code",
   "execution_count": 4,
   "metadata": {},
   "outputs": [
    {
     "name": "stdout",
     "output_type": "stream",
     "text": [
      "Hello, Amita!\n",
      "Hello, Aieman!\n"
     ]
    }
   ],
   "source": [
    "# defining and calling functions\n",
    "def greet(name):\n",
    "    print(f\"Hello, {name}!\")\n",
    "\n",
    "greet(\"Amita\")\n",
    "greet(\"Aieman\")  "
   ]
  },
  {
   "cell_type": "code",
   "execution_count": 5,
   "metadata": {},
   "outputs": [
    {
     "name": "stdout",
     "output_type": "stream",
     "text": [
      "Hello, Guest!\n",
      "Hello, Amita!\n"
     ]
    }
   ],
   "source": [
    "# Example: Default argument\n",
    "def greet(name=\"Guest\"):\n",
    "    print(f\"Hello, {name}!\")\n",
    "\n",
    "greet()  # Uses default value\n",
    "\n",
    "name = \"Amita\"\n",
    "greet(name)"
   ]
  },
  {
   "cell_type": "code",
   "execution_count": 6,
   "metadata": {},
   "outputs": [
    {
     "data": {
      "text/plain": [
       "{'name': 'Aeiman', 'age': 25, 'class': 10, 'grade': 3.2, 'is_passed': True}"
      ]
     },
     "execution_count": 6,
     "metadata": {},
     "output_type": "execute_result"
    }
   ],
   "source": [
    "# dictionaries\n",
    "student = {}\n",
    "\n",
    "# add a student\n",
    "student[\"name\"] = \"Aeiman\"\n",
    "student[\"age\"] = 25\n",
    "student[\"class\"] = 10\n",
    "student[\"grade\"] = 3.2\n",
    "student[\"is_passed\"] = True\n",
    "student"
   ]
  },
  {
   "cell_type": "code",
   "execution_count": 7,
   "metadata": {},
   "outputs": [
    {
     "name": "stdout",
     "output_type": "stream",
     "text": [
      "values: dict_values(['Aeiman', 25, 10, 3.2, True])\n",
      "keys: dict_keys(['name', 'age', 'class', 'grade', 'is_passed'])\n"
     ]
    }
   ],
   "source": [
    "print(f\"values: {student.values()}\")\n",
    "print(f\"keys: {student.keys()}\")"
   ]
  },
  {
   "cell_type": "code",
   "execution_count": 8,
   "metadata": {},
   "outputs": [
    {
     "name": "stdout",
     "output_type": "stream",
     "text": [
      "name: Aeiman\n",
      "age: 25\n",
      "class: 10\n",
      "grade: 3.2\n",
      "is_passed: True\n"
     ]
    }
   ],
   "source": [
    "for key, value in student.items():\n",
    "    print(f\"{key}: {value}\")"
   ]
  },
  {
   "cell_type": "code",
   "execution_count": 7,
   "metadata": {},
   "outputs": [
    {
     "name": "stdout",
     "output_type": "stream",
     "text": [
      "thu sun wed tue mon "
     ]
    }
   ],
   "source": [
    "days = {'sun', 'mon', 'tue', 'wed', 'thu'}\n",
    "for day in days:\n",
    "    print(day, end= \" \")"
   ]
  },
  {
   "cell_type": "code",
   "execution_count": 9,
   "metadata": {},
   "outputs": [
    {
     "name": "stdout",
     "output_type": "stream",
     "text": [
      "[0, 1, 2, 3, 4, 5, 6, 7, 8, 9]\n"
     ]
    }
   ],
   "source": [
    "# list comprehension\n",
    "numbers = [i for i in range(10)]\n",
    "print(numbers)"
   ]
  },
  {
   "cell_type": "code",
   "execution_count": 10,
   "metadata": {},
   "outputs": [
    {
     "name": "stdout",
     "output_type": "stream",
     "text": [
      "[0, 1, 2, 3, 4, 5, 6, 7, 8, 9]\n"
     ]
    }
   ],
   "source": [
    "numbers = []\n",
    "for i in range(10):\n",
    "    numbers.append(i)\n",
    "\n",
    "print(numbers)"
   ]
  },
  {
   "cell_type": "code",
   "execution_count": 11,
   "metadata": {},
   "outputs": [
    {
     "data": {
      "text/plain": [
       "[0, 1, 2, 3, 4, 5, 6, 7, 8, 9]"
      ]
     },
     "execution_count": 11,
     "metadata": {},
     "output_type": "execute_result"
    }
   ],
   "source": [
    "[i for i in range(10)]"
   ]
  },
  {
   "cell_type": "code",
   "execution_count": 12,
   "metadata": {},
   "outputs": [
    {
     "name": "stdout",
     "output_type": "stream",
     "text": [
      "index: 0, fruit: apple\n",
      "index: 1, fruit: orange\n",
      "index: 2, fruit: mango\n"
     ]
    }
   ],
   "source": [
    "# generator\n",
    "fruits = [\"apple\", 'orange', 'mango']\n",
    "for index, fruit in enumerate(fruits):\n",
    "    print(f\"index: {index}, fruit: {fruit}\")"
   ]
  },
  {
   "cell_type": "code",
   "execution_count": 13,
   "metadata": {},
   "outputs": [
    {
     "name": "stdout",
     "output_type": "stream",
     "text": [
      "index: 0, fruit: apple\n",
      "index: 1, fruit: orange\n",
      "index: 2, fruit: mango\n"
     ]
    }
   ],
   "source": [
    "for i in range(len(fruits)):\n",
    "    print(f\"index: {i}, fruit: {fruits[i]}\")"
   ]
  },
  {
   "cell_type": "code",
   "execution_count": 15,
   "metadata": {},
   "outputs": [],
   "source": [
    "def calculator(num1, num2, operator):\n",
    "    if operator == '+':\n",
    "        return addition(num1, num2)\n",
    "    elif operator == '-':\n",
    "        return subtract(num1, num2)\n",
    "    else:\n",
    "        print(\"Invalid operator\")\n",
    "        return None"
   ]
  },
  {
   "cell_type": "code",
   "execution_count": 16,
   "metadata": {},
   "outputs": [
    {
     "name": "stdout",
     "output_type": "stream",
     "text": [
      "Invalid operator\n",
      "Result: None\n"
     ]
    }
   ],
   "source": [
    "num1, num2 = 20, 10\n",
    "operator = \"*\"\n",
    "result = calculator(num1, num2, operator)\n",
    "print(f\"Result: {result}\")"
   ]
  },
  {
   "cell_type": "markdown",
   "metadata": {},
   "source": [
    "## Function\n",
    "- reusable block of code\n",
    "- help make your code modular and easier to read"
   ]
  },
  {
   "cell_type": "code",
   "execution_count": 17,
   "metadata": {},
   "outputs": [
    {
     "name": "stdout",
     "output_type": "stream",
     "text": [
      "Hello Aieman!\n",
      "age: 10\n",
      "Hello Aanya!\n",
      "age: 20\n",
      "None\n"
     ]
    }
   ],
   "source": [
    "def greet(name, age=20):\n",
    "    print(f\"Hello {name}!\")\n",
    "    print(F\"age: {age}\")\n",
    "    \n",
    "greet(name=\"Aieman\", age=10)\n",
    "print(greet(name=\"Aanya\"))"
   ]
  },
  {
   "cell_type": "code",
   "execution_count": 18,
   "metadata": {},
   "outputs": [
    {
     "name": "stdout",
     "output_type": "stream",
     "text": [
      "3 is odd.\n"
     ]
    }
   ],
   "source": [
    "# write function to check even and odd numbers\n",
    "def check_even_odd():\n",
    "    number = int(input(\"Enter a number: \"))\n",
    "    if number % 2 == 0:\n",
    "        print(f\"{number} is even.\")\n",
    "    else:\n",
    "        print(f\"{number} is odd.\")\n",
    "check_even_odd()"
   ]
  },
  {
   "cell_type": "code",
   "execution_count": 19,
   "metadata": {},
   "outputs": [
    {
     "name": "stdout",
     "output_type": "stream",
     "text": [
      "35 is not even\n"
     ]
    }
   ],
   "source": [
    "# return statement\n",
    "def is_even(num):\n",
    "    if num % 2 == 0:\n",
    "        return f\"{num} is even\"\n",
    "    else:\n",
    "        return f\"{num} is not even\"\n",
    "print(is_even(35))"
   ]
  },
  {
   "cell_type": "code",
   "execution_count": 20,
   "metadata": {},
   "outputs": [
    {
     "name": "stdout",
     "output_type": "stream",
     "text": [
      "True\n"
     ]
    }
   ],
   "source": [
    "# write code to check prime numbers \n",
    "def check_prime_num(num):\n",
    "    if num <= 1:  \n",
    "        return False\n",
    "    for i in range(2, num):  \n",
    "        if num % i == 0:  \n",
    "            return False\n",
    "    return True  \n",
    "\n",
    "\n",
    "print(check_prime_num(7))         "
   ]
  },
  {
   "cell_type": "code",
   "execution_count": 21,
   "metadata": {},
   "outputs": [
    {
     "name": "stdout",
     "output_type": "stream",
     "text": [
      "error\n",
      "None\n"
     ]
    }
   ],
   "source": [
    "def additon(num1, num2):\n",
    "    return num1+num2\n",
    "\n",
    "def subtraction(num1,num2):\n",
    "    return num1-num2\n",
    "\n",
    "def calc(num1, num2, op):\n",
    "    if op==\"+\":\n",
    "        return additon(num1, num2)\n",
    "    elif op==\"-\":\n",
    "        return subtraction(num1, num2)\n",
    "    else:\n",
    "        print(\"error\")\n",
    "\n",
    "num1 , num2 = 20, 30\n",
    "op = \"*\"\n",
    "print(calc(num1, num2, op))"
   ]
  },
  {
   "cell_type": "code",
   "execution_count": 22,
   "metadata": {},
   "outputs": [
    {
     "name": "stdout",
     "output_type": "stream",
     "text": [
      "Invalid operator\n"
     ]
    }
   ],
   "source": [
    "calculator(num1, num2, op)"
   ]
  },
  {
   "cell_type": "code",
   "execution_count": 23,
   "metadata": {},
   "outputs": [
    {
     "name": "stdout",
     "output_type": "stream",
     "text": [
      "Length of the list: 5\n"
     ]
    }
   ],
   "source": [
    "# program to check len of list\n",
    "def list_len(list):\n",
    "    return len(list)\n",
    "\n",
    "list = [1,2,3,4,5]\n",
    "length = list_len(list)\n",
    "print(f\"Length of the list: {length}\")"
   ]
  }
 ],
 "metadata": {
  "kernelspec": {
   "display_name": "env",
   "language": "python",
   "name": "python3"
  },
  "language_info": {
   "codemirror_mode": {
    "name": "ipython",
    "version": 3
   },
   "file_extension": ".py",
   "mimetype": "text/x-python",
   "name": "python",
   "nbconvert_exporter": "python",
   "pygments_lexer": "ipython3",
   "version": "3.12.8"
  }
 },
 "nbformat": 4,
 "nbformat_minor": 2
}

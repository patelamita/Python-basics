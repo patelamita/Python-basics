{
 "cells": [
  {
   "cell_type": "markdown",
   "metadata": {},
   "source": []
  },
  {
   "cell_type": "code",
   "execution_count": 2,
   "metadata": {},
   "outputs": [],
   "source": [
    "# write a functions to get all the hastags from given para\n",
    "import re\n",
    "def get_hastags(para:str)->list:\n",
    "    \"\"\"get all the hastags from given paragraph\n",
    "    \"\"\"\n",
    "\n",
    "    # using regex\n",
    "    result = re.findall(r\"#\\w+\", para)\n",
    "    return result"
   ]
  },
  {
   "cell_type": "code",
   "execution_count": 3,
   "metadata": {},
   "outputs": [
    {
     "data": {
      "text/plain": [
       "['#paragraph', '#nepal', '#ktm']"
      ]
     },
     "execution_count": 3,
     "metadata": {},
     "output_type": "execute_result"
    }
   ],
   "source": [
    "test_para = \"This is test #paragraph used to  get all the hastags from. #nepal #ktm\"\n",
    "get_hastags(test_para)"
   ]
  },
  {
   "cell_type": "code",
   "execution_count": 4,
   "metadata": {},
   "outputs": [
    {
     "name": "stdout",
     "output_type": "stream",
     "text": [
      "True\n",
      "Name: Ram, Age: 23, Grade: 3.5, Passed: True\n"
     ]
    }
   ],
   "source": [
    "# student class\n",
    "class Student:\n",
    "    def __init__(self, name:str, age:int, grade:float)->None:\n",
    "        self.name = name\n",
    "        self.age = age\n",
    "        self.grade = grade\n",
    "\n",
    "    def is_passed(self):\n",
    "        if self.grade >= 3.0:\n",
    "            return True\n",
    "        return False\n",
    "\n",
    "\n",
    "    def get_info(self):\n",
    "        return f\"Name: {self.name}, Age: {self.age}, Grade: {self.grade}, Passed: {self.is_passed()}\"\n",
    "    \n",
    "student1 = Student(\"Ram\", 23, 3.5)\n",
    "print(student1.is_passed())\n",
    "print(student1.get_info())"
   ]
  }
 ],
 "metadata": {
  "kernelspec": {
   "display_name": "env",
   "language": "python",
   "name": "python3"
  },
  "language_info": {
   "codemirror_mode": {
    "name": "ipython",
    "version": 3
   },
   "file_extension": ".py",
   "mimetype": "text/x-python",
   "name": "python",
   "nbconvert_exporter": "python",
   "pygments_lexer": "ipython3",
   "version": "3.12.8"
  }
 },
 "nbformat": 4,
 "nbformat_minor": 2
}

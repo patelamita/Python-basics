{
 "cells": [
  {
   "cell_type": "markdown",
   "metadata": {},
   "source": [
    "#### Error Handling"
   ]
  },
  {
   "cell_type": "code",
   "execution_count": 1,
   "metadata": {},
   "outputs": [
    {
     "ename": "KeyError",
     "evalue": "'milage'",
     "output_type": "error",
     "traceback": [
      "\u001b[1;31m---------------------------------------------------------------------------\u001b[0m",
      "\u001b[1;31mKeyError\u001b[0m                                  Traceback (most recent call last)",
      "Cell \u001b[1;32mIn[1], line 2\u001b[0m\n\u001b[0;32m      1\u001b[0m car \u001b[38;5;241m=\u001b[39m {\u001b[38;5;124m\"\u001b[39m\u001b[38;5;124mname\u001b[39m\u001b[38;5;124m\"\u001b[39m:\u001b[38;5;124m\"\u001b[39m\u001b[38;5;124mtesla\u001b[39m\u001b[38;5;124m\"\u001b[39m, \u001b[38;5;124m'\u001b[39m\u001b[38;5;124mprice\u001b[39m\u001b[38;5;124m'\u001b[39m: \u001b[38;5;124m'\u001b[39m\u001b[38;5;124m50k\u001b[39m\u001b[38;5;124m'\u001b[39m, \u001b[38;5;124m\"\u001b[39m\u001b[38;5;124mmodel\u001b[39m\u001b[38;5;124m\"\u001b[39m:\u001b[38;5;241m2023\u001b[39m}\n\u001b[1;32m----> 2\u001b[0m \u001b[43mcar\u001b[49m\u001b[43m[\u001b[49m\u001b[38;5;124;43m\"\u001b[39;49m\u001b[38;5;124;43mmilage\u001b[39;49m\u001b[38;5;124;43m\"\u001b[39;49m\u001b[43m]\u001b[49m\n",
      "\u001b[1;31mKeyError\u001b[0m: 'milage'"
     ]
    }
   ],
   "source": [
    "car = {\"name\":\"tesla\", 'price': '50k', \"model\":2023}\n",
    "car[\"milage\"]"
   ]
  },
  {
   "cell_type": "code",
   "execution_count": 4,
   "metadata": {},
   "outputs": [],
   "source": [
    "def car_info(car):\n",
    "    try:\n",
    "        name = car[\"name\"]\n",
    "        milage = car[\"milage\"]\n",
    "        print(f\"name: {name} milage: {milage}\")\n",
    "    \n",
    "    except ValueError:\n",
    "        print(\"Error: 'name' or 'milage' key not found.\")\n",
    "        return None\n",
    "    \n",
    "    except Exception as e:\n",
    "        print(e)\n",
    "        print(f\"An error occurred: {str(e)}\")\n",
    "        return None\n",
    "    \n",
    "    # finally:\n",
    "    #     print(\"Successfully running.\")"
   ]
  },
  {
   "cell_type": "code",
   "execution_count": 5,
   "metadata": {},
   "outputs": [
    {
     "name": "stdout",
     "output_type": "stream",
     "text": [
      "'milage'\n",
      "An error occurred: 'milage'\n"
     ]
    }
   ],
   "source": [
    "car = {\"name\":\"tesla\", 'price': '50k', \"model\":2023}\n",
    "car_info(car)"
   ]
  },
  {
   "cell_type": "code",
   "execution_count": 7,
   "metadata": {},
   "outputs": [
    {
     "name": "stdout",
     "output_type": "stream",
     "text": [
      "Addition: 20, Subtraction: 26\n"
     ]
    }
   ],
   "source": [
    "from calculator.calculator import addition, subtraction\n",
    "add_result = addition(num1=23, num2=-3)\n",
    "sub_result = subtraction(num1=23, num2=-3)\n",
    "print(f\"Addition: {add_result}, Subtraction: {sub_result}\")"
   ]
  },
  {
   "cell_type": "code",
   "execution_count": 8,
   "metadata": {},
   "outputs": [
    {
     "data": {
      "text/plain": [
       "26"
      ]
     },
     "execution_count": 8,
     "metadata": {},
     "output_type": "execute_result"
    }
   ],
   "source": [
    "from calculator import calculator as calc\n",
    "calc.addition(num1=23, num2=-3)\n",
    "calc.subtraction(num1=23, num2=-3)"
   ]
  },
  {
   "cell_type": "code",
   "execution_count": 9,
   "metadata": {},
   "outputs": [
    {
     "name": "stdout",
     "output_type": "stream",
     "text": [
      "Hello Hari, welcome to python and data science class.\n"
     ]
    }
   ],
   "source": [
    "from calculator.greeting import  *\n",
    "name = \"Hari\"\n",
    "print(greet(name))"
   ]
  },
  {
   "cell_type": "code",
   "execution_count": 10,
   "metadata": {},
   "outputs": [
    {
     "data": {
      "text/plain": [
       "'Hello Hari, welcome to python and data science class.'"
      ]
     },
     "execution_count": 10,
     "metadata": {},
     "output_type": "execute_result"
    }
   ],
   "source": [
    "from calculator import greeting\n",
    "greeting.greet(name)"
   ]
  }
 ],
 "metadata": {
  "kernelspec": {
   "display_name": "env",
   "language": "python",
   "name": "python3"
  },
  "language_info": {
   "codemirror_mode": {
    "name": "ipython",
    "version": 3
   },
   "file_extension": ".py",
   "mimetype": "text/x-python",
   "name": "python",
   "nbconvert_exporter": "python",
   "pygments_lexer": "ipython3",
   "version": "3.12.8"
  }
 },
 "nbformat": 4,
 "nbformat_minor": 2
}

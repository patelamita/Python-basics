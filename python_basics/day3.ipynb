{
 "cells": [
  {
   "cell_type": "markdown",
   "metadata": {},
   "source": [
    "#### While loop "
   ]
  },
  {
   "cell_type": "code",
   "execution_count": 1,
   "metadata": {},
   "outputs": [
    {
     "name": "stdout",
     "output_type": "stream",
     "text": [
      "The sum of the number 1 to 10 is 55.\n"
     ]
    }
   ],
   "source": [
    "n = 10\n",
    "sum = 0\n",
    "i =1\n",
    "while i<= n:\n",
    "    sum += i\n",
    "    i+=1\n",
    "print(f\"The sum of the number 1 to {n} is {sum}.\")"
   ]
  },
  {
   "cell_type": "markdown",
   "metadata": {},
   "source": [
    "#### Break and continue"
   ]
  },
  {
   "cell_type": "code",
   "execution_count": 9,
   "metadata": {},
   "outputs": [
    {
     "name": "stdout",
     "output_type": "stream",
     "text": [
      "1\n",
      "2\n",
      "3\n",
      "4\n"
     ]
    }
   ],
   "source": [
    "#break\n",
    "for num in range(1, 11):\n",
    "    if num == 5:\n",
    "        break\n",
    "    print(num,end =\"\\n\")"
   ]
  },
  {
   "cell_type": "code",
   "execution_count": 11,
   "metadata": {},
   "outputs": [
    {
     "name": "stdout",
     "output_type": "stream",
     "text": [
      "10\n",
      "11\n",
      "12\n",
      "13\n"
     ]
    }
   ],
   "source": [
    "num = 10\n",
    "while num<=20:\n",
    "    if num == 14:\n",
    "        break\n",
    "    print(num)\n",
    "    num += 1"
   ]
  },
  {
   "cell_type": "code",
   "execution_count": 14,
   "metadata": {},
   "outputs": [
    {
     "name": "stdout",
     "output_type": "stream",
     "text": [
      "1\n",
      "2\n",
      "3\n",
      "4\n",
      "6\n",
      "7\n",
      "8\n",
      "9\n",
      "10\n"
     ]
    }
   ],
   "source": [
    "#continue\n",
    "for num in range(1, 11):\n",
    "    if num == 5:\n",
    "        continue\n",
    "    print(num)"
   ]
  },
  {
   "cell_type": "markdown",
   "metadata": {},
   "source": [
    "## Data Structure \n",
    "#### List\n",
    "- List are ordered and mutable collection\n",
    "- store different datatypes\n",
    "- slower in comparison to array\n",
    "- Used when you need an ordered, changeable collection of items\n",
    "- suitable for small data set"
   ]
  },
  {
   "cell_type": "code",
   "execution_count": 2,
   "metadata": {},
   "outputs": [
    {
     "name": "stdout",
     "output_type": "stream",
     "text": [
      "['apple', 'banana', 'cherry']\n"
     ]
    }
   ],
   "source": [
    "fruits = [\"apple\", \"banana\", \"cherry\"]\n",
    "print(fruits)"
   ]
  },
  {
   "cell_type": "code",
   "execution_count": 3,
   "metadata": {},
   "outputs": [
    {
     "name": "stdout",
     "output_type": "stream",
     "text": [
      "['Carrot']\n",
      "['Carrot', 'pumpkin', 'cabbage']\n"
     ]
    }
   ],
   "source": [
    "vegetables = []\n",
    "\n",
    "#append\n",
    "vegetables.append(\"Carrot\")\n",
    "print(vegetables)\n",
    "#extend\n",
    "vegetables.extend([\"pumpkin\",\"cabbage\"])\n",
    "print(vegetables)"
   ]
  },
  {
   "cell_type": "code",
   "execution_count": 4,
   "metadata": {},
   "outputs": [
    {
     "name": "stdout",
     "output_type": "stream",
     "text": [
      "[10, 'python', 14.4, False]\n"
     ]
    }
   ],
   "source": [
    "mixed_list = [10,\"python\",14.4,False,]\n",
    "print(mixed_list)"
   ]
  },
  {
   "cell_type": "code",
   "execution_count": 5,
   "metadata": {},
   "outputs": [
    {
     "name": "stdout",
     "output_type": "stream",
     "text": [
      "['apple', 'banana', 'grapes', 'cherry']\n"
     ]
    }
   ],
   "source": [
    "#insert an item at a specific index\n",
    "fruits.insert(2,\"grapes\")\n",
    "print(fruits)"
   ]
  },
  {
   "cell_type": "code",
   "execution_count": 6,
   "metadata": {},
   "outputs": [
    {
     "name": "stdout",
     "output_type": "stream",
     "text": [
      "['apple', 'cherry']\n",
      "banana\n",
      "['banana', 'cherry', 'apple']\n"
     ]
    }
   ],
   "source": [
    "fruits = [\"apple\", \"banana\", \"cherry\"]\n",
    "\n",
    "# Remove and return the element at index 1\n",
    "removed_item = fruits.pop(1)\n",
    "\n",
    "print(fruits)        # Remaining list\n",
    "print(removed_item)  # Removed element\n",
    "\n",
    "\n",
    "fruits = [\"apple\", \"banana\", \"cherry\", \"apple\"]\n",
    "\n",
    "# Remove the first occurrence of \"apple\"\n",
    "fruits.remove(\"apple\")\n",
    "\n",
    "print(fruits)"
   ]
  },
  {
   "cell_type": "code",
   "execution_count": 7,
   "metadata": {},
   "outputs": [
    {
     "name": "stdout",
     "output_type": "stream",
     "text": [
      "3\n"
     ]
    },
    {
     "data": {
      "text/plain": [
       "'apple'"
      ]
     },
     "execution_count": 7,
     "metadata": {},
     "output_type": "execute_result"
    }
   ],
   "source": [
    "length = len(fruits)\n",
    "print(length)\n",
    "fruits[2]"
   ]
  },
  {
   "cell_type": "code",
   "execution_count": 8,
   "metadata": {},
   "outputs": [
    {
     "name": "stdout",
     "output_type": "stream",
     "text": [
      "3\n",
      "4\n"
     ]
    }
   ],
   "source": [
    "# multi dimensional\n",
    "nums = [[1,2,3,4], [5,6,6],[7,8,7]]\n",
    "print(len(nums))\n",
    "print(len(nums[0]))"
   ]
  },
  {
   "cell_type": "code",
   "execution_count": 9,
   "metadata": {},
   "outputs": [
    {
     "name": "stdout",
     "output_type": "stream",
     "text": [
      "[1, 2, 5, 7, 9]\n",
      "[9, 7, 5, 2, 1]\n"
     ]
    }
   ],
   "source": [
    "# Ascending order (default)\n",
    "numbers = [5, 2, 9, 1, 7]\n",
    "numbers.sort()\n",
    "print(numbers)  # [1, 2, 5, 7, 9]\n",
    "\n",
    "# Descending order\n",
    "numbers.sort(reverse=True)\n",
    "print(numbers)  # [9, 7, 5, 2, 1]"
   ]
  },
  {
   "cell_type": "code",
   "execution_count": 1,
   "metadata": {},
   "outputs": [
    {
     "name": "stdout",
     "output_type": "stream",
     "text": [
      "[3, 1, 7, 4, 1, 5, 9, 6]\n",
      "6\n",
      "[3, 7, 4, 1, 5, 9]\n",
      "[9, 5, 1, 4, 7, 3]\n",
      "[1, 3, 4, 5, 7, 9]\n"
     ]
    }
   ],
   "source": [
    "my_list = [3, 1, 4, 1, 5, 9] \n",
    "\n",
    "# List Methods\n",
    "\n",
    "# Add the number 6 to the end of the list\n",
    "my_list.append(6)          \n",
    "\n",
    "# Insert the number 7 at index 2\n",
    "my_list.insert(2, 7)        \n",
    "print(my_list)             \n",
    "\n",
    "# Remove the first occurrence of the number 1\n",
    "my_list.remove(1)           \n",
    "\n",
    "# Remove and return the last element (6 by default)\n",
    "print(my_list.pop())       \n",
    "print(my_list)             \n",
    "\n",
    "# Reverse the order of elements in the list\n",
    "my_list.reverse()           \n",
    "print(my_list)              \n",
    "\n",
    "# Sort the list in ascending order\n",
    "my_list.sort()              \n",
    "print(my_list)              "
   ]
  },
  {
   "cell_type": "markdown",
   "metadata": {},
   "source": [
    "#### Tuple\n",
    "- immutable, ordered collection of elements\n",
    "- cannot be modified (no adding, removing, or changing elements)\n",
    "- Used for fixed collections of items, or when immutability is needed"
   ]
  },
  {
   "cell_type": "code",
   "execution_count": 10,
   "metadata": {},
   "outputs": [
    {
     "name": "stdout",
     "output_type": "stream",
     "text": [
      "(1, 2, 3)\n",
      "('apple', 42, 3.14)\n",
      "(5,)\n"
     ]
    }
   ],
   "source": [
    "# Creating a tuple\n",
    "my_tuple = (1, 2, 3)\n",
    "print(my_tuple)\n",
    "\n",
    "# Tuple with mixed data types\n",
    "mixed_tuple = (\"apple\", 42, 3.14)\n",
    "print(mixed_tuple)\n",
    "\n",
    "# Single-element tuple \n",
    "single_tuple = (5,)\n",
    "print(single_tuple)\n"
   ]
  },
  {
   "cell_type": "code",
   "execution_count": 3,
   "metadata": {},
   "outputs": [
    {
     "name": "stdout",
     "output_type": "stream",
     "text": [
      "4\n",
      "10\n",
      "[1, 2, 3, 4]\n",
      "2\n",
      "2\n"
     ]
    }
   ],
   "source": [
    "# Tuple Function\n",
    "\n",
    "#len\n",
    "my_tuple = (1, 2, 3, 4)\n",
    "print(len(my_tuple))  \n",
    "\n",
    "# Get the sum of all elements\n",
    "print(sum(my_tuple))   \n",
    "\n",
    "# Return a sorted list version of the tuple: \n",
    "print(sorted(my_tuple))     \n",
    "\n",
    "\n",
    "# Tuple Methods\n",
    "\n",
    "my_tuple = (3, 1, 4, 1, 5, 9)\n",
    "\n",
    "# Count how many times the number 1 appears\n",
    "print(my_tuple.count(1)) \n",
    "\n",
    "# Get the index of the first occurrence of 4 \n",
    "print(my_tuple.index(4))    "
   ]
  },
  {
   "cell_type": "markdown",
   "metadata": {},
   "source": [
    "#### Set\n",
    "- set is an unordered\n",
    "- mutable collection of unique elements(you can add or remove elements, but not modify existing ones)\n",
    "- does not allow duplicates\n",
    "- No indexing\n",
    "- Used for collections of unique items, or to perform set operations"
   ]
  },
  {
   "cell_type": "code",
   "execution_count": 5,
   "metadata": {},
   "outputs": [
    {
     "name": "stdout",
     "output_type": "stream",
     "text": [
      "{1, 3, 4, 5, 7, 9}\n",
      "{1, 4, 5, 7, 9}\n",
      "{1, 4, 5, 7, 9}\n",
      "1 {4, 5, 7, 9}\n",
      "set()\n"
     ]
    }
   ],
   "source": [
    "my_set = {3, 1, 4, 1, 5, 9}  # A set automatically removes duplicate 1\n",
    "\n",
    "# Set Methods\n",
    "\n",
    "# Add the number 7 to the set\n",
    "my_set.add(7)                \n",
    "print(my_set)               \n",
    "\n",
    "# Remove the number 3 from the set\n",
    "my_set.remove(3)             \n",
    "print(my_set)               \n",
    "\n",
    "# Try to remove 10 (does nothing if not found, no error)\n",
    "my_set.discard(10)           \n",
    "print(my_set)                \n",
    "\n",
    "# Remove and return removed element\n",
    "popped_item = my_set.pop()   \n",
    "print(popped_item, my_set) \n",
    "\n",
    "# to print empty set\n",
    "empty_set = set()\n",
    "print(empty_set)  \n",
    "\n"
   ]
  },
  {
   "cell_type": "markdown",
   "metadata": {},
   "source": [
    "#### Dictionary\n",
    "- Mutable (you can add, remove, or modify key-value pairs)\n",
    "- Keys must be unique, but values can have duplicates\n",
    "- Used for mapping relationships, or storing data as key-value pairs"
   ]
  },
  {
   "cell_type": "code",
   "execution_count": 6,
   "metadata": {},
   "outputs": [
    {
     "name": "stdout",
     "output_type": "stream",
     "text": [
      "3\n",
      "dict_keys(['a', 'b', 'c'])\n",
      "dict_items([('a', 1), ('b', 2), ('c', 3)])\n",
      "2\n",
      "0\n",
      "{'a': 1, 'b': 2, 'c': 3, 'd': 4}\n",
      "{'a': 1, 'b': 2, 'c': 3, 'd': 4, 'e': 5}\n",
      "1\n",
      "{'b': 2, 'c': 3, 'd': 4, 'e': 5}\n",
      "('e', 5) {'b': 2, 'c': 3, 'd': 4}\n"
     ]
    }
   ],
   "source": [
    "# Dictionary Functions\n",
    "my_dict = {'a': 1, \n",
    "'b': 2, \n",
    "'c': 3}  \n",
    "\n",
    "# Get the total number of key-value pairs\n",
    "print(len(my_dict))                 \n",
    "\n",
    "# Dictionary Methods\n",
    "\n",
    "# Get all keys\n",
    "print(my_dict.keys())       \n",
    "\n",
    "# Get all key-value pairs\n",
    "print(my_dict.items())       \n",
    "\n",
    "# Get the value for key 'b'\n",
    "print(my_dict.get('b'))\n",
    "\n",
    "# Get default value (0) for non-existing key 'd'      \n",
    "print(my_dict.get('d', 0))\n",
    "\n",
    "# Add a new key-value pair\n",
    "my_dict['d'] = 4            \n",
    "print(my_dict)               \n",
    "\n",
    "# Add or update multiple key-value pairs\n",
    "my_dict.update({'e': 5})     \n",
    "print(my_dict)              \n",
    "\n",
    "# Remove and return value for key 'a'\n",
    "print(my_dict.pop('a'))      \n",
    "print(my_dict)               \n",
    "\n",
    "# Remove and return the last inserted pair\n",
    "last_item = my_dict.popitem()  \n",
    "print(last_item, my_dict)   \n",
    "\n",
    "\n"
   ]
  }
 ],
 "metadata": {
  "kernelspec": {
   "display_name": "env",
   "language": "python",
   "name": "python3"
  },
  "language_info": {
   "codemirror_mode": {
    "name": "ipython",
    "version": 3
   },
   "file_extension": ".py",
   "mimetype": "text/x-python",
   "name": "python",
   "nbconvert_exporter": "python",
   "pygments_lexer": "ipython3",
   "version": "3.12.8"
  }
 },
 "nbformat": 4,
 "nbformat_minor": 2
}
